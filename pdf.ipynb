{
 "cells": [
  {
   "cell_type": "code",
   "execution_count": 18,
   "metadata": {},
   "outputs": [
    {
     "name": "stdout",
     "output_type": "stream",
     "text": [
      "The Cinderella moment: Exploring consumers' motivations to engage with renting as collaborative luxury consumption mode\n",
      "{'/Keywords': 'collaborative consumption; consumer behavior; luxury retailing; sharing economy; status consumption; textual data; Twitter', '/Creator': 'John Wiley & Sons', '/ModDate': \"D:20240802001107-07'00'\", '/CreationDate': \"D:20200418121821+05'30'\", '/Subject': 'Psychology and Marketing 2020.37:740-753', '/Producer': 'iText 4.2.0 by 1T3XT', '/WPS-PROCLEVEL': '3', '/WPS-JOURNALDOI': '10.1002/(ISSN)1520-6793', '/Author': 'Eleonora Pantano', '/Title': \"The Cinderella moment: Exploring consumers' motivations to engage with renting as collaborative luxury consumption mode\", '/WPS-ARTICLEDOI': '10.1002/mar.21345'}\n"
     ]
    }
   ],
   "source": [
    "import pypdf\n",
    "\n",
    "#leitorPDF = pypdf.PdfReader(\"Papers/(2020) Jain & Mishra.pdf\")\n",
    "leitorPDF = pypdf.PdfReader(\"Papers/(2020) Pantano & Stylos.pdf\")\n",
    "\n",
    "#print(leitorPDF.pages[0])\n",
    "\n",
    "print(leitorPDF.metadata.title)\n",
    "print(leitorPDF.metadata)"
   ]
  },
  {
   "cell_type": "code",
   "execution_count": 20,
   "metadata": {},
   "outputs": [
    {
     "data": {
      "text/plain": [
       "<bound method PageObject.extract_text of {'/Contents': [IndirectObject(34, 0, 1984696785360), IndirectObject(148, 0, 1984696785360), IndirectObject(35, 0, 1984696785360)], '/Thumb': IndirectObject(149, 0, 1984696785360), '/Type': '/Page', '/Resources': {'/ColorSpace': {'/Cs8': IndirectObject(51, 0, 1984696785360)}, '/ExtGState': {'/GS1': IndirectObject(52, 0, 1984696785360), '/GS2': IndirectObject(53, 0, 1984696785360)}, '/ProcSet': ['/PDF', '/Text', '/ImageB', '/ImageC', '/ImageI'], '/Font': {'/F7': IndirectObject(54, 0, 1984696785360), '/F1': IndirectObject(55, 0, 1984696785360), '/F2': IndirectObject(56, 0, 1984696785360), '/F3': IndirectObject(57, 0, 1984696785360), '/F4': IndirectObject(58, 0, 1984696785360)}, '/XObject': {'/Xi4': IndirectObject(7, 0, 1984696785360), '/Im4': IndirectObject(59, 0, 1984696785360)}, '/Properties': {'/MC5': IndirectObject(150, 0, 1984696785360)}}, '/Annots': [IndirectObject(151, 0, 1984696785360), IndirectObject(152, 0, 1984696785360), IndirectObject(153, 0, 1984696785360), IndirectObject(154, 0, 1984696785360), IndirectObject(155, 0, 1984696785360), IndirectObject(156, 0, 1984696785360), IndirectObject(157, 0, 1984696785360), IndirectObject(158, 0, 1984696785360), IndirectObject(159, 0, 1984696785360), IndirectObject(160, 0, 1984696785360), IndirectObject(161, 0, 1984696785360), IndirectObject(162, 0, 1984696785360), IndirectObject(163, 0, 1984696785360), IndirectObject(164, 0, 1984696785360), IndirectObject(165, 0, 1984696785360), IndirectObject(166, 0, 1984696785360), IndirectObject(167, 0, 1984696785360)], '/CropBox': [0, 0, 595.276, 782.362], '/Parent': IndirectObject(90, 0, 1984696785360), '/Rotate': 0, '/MediaBox': [0, 0, 595.276, 782.362]}>"
      ]
     },
     "execution_count": 20,
     "metadata": {},
     "output_type": "execute_result"
    }
   ],
   "source": [
    "pagina4 = leitorPDF.pages[3]\n",
    "pagina4.extract_text"
   ]
  },
  {
   "cell_type": "code",
   "execution_count": 29,
   "metadata": {},
   "outputs": [],
   "source": [
    "def separarRange(arquivo, paginaInicial, paginaFinal, destino):\n",
    "    \n",
    "    escritor = pypdf.PdfWriter()\n",
    "    for pagina in arquivo.pages[(paginaInicial -1):paginaFinal]:\n",
    "        escritor.add_page(pagina)\n",
    "    escritor.write(destino)\n",
    "    \n",
    "separarRange(leitorPDF, 1,2, \"Teste Pagina.pdf\")"
   ]
  },
  {
   "cell_type": "code",
   "execution_count": 26,
   "metadata": {},
   "outputs": [],
   "source": [
    "separarPagina(leitorPDF, 1, \"Primeira Pagina.pdf\")"
   ]
  }
 ],
 "metadata": {
  "kernelspec": {
   "display_name": ".env",
   "language": "python",
   "name": "python3"
  },
  "language_info": {
   "codemirror_mode": {
    "name": "ipython",
    "version": 3
   },
   "file_extension": ".py",
   "mimetype": "text/x-python",
   "name": "python",
   "nbconvert_exporter": "python",
   "pygments_lexer": "ipython3",
   "version": "3.9.13"
  }
 },
 "nbformat": 4,
 "nbformat_minor": 2
}
